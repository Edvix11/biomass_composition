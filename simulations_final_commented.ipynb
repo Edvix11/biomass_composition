{
 "cells": [
  {
   "cell_type": "code",
   "execution_count": null,
   "metadata": {
    "scrolled": true
   },
   "outputs": [],
   "source": [
    "import pickle\n",
    "import cobrame\n",
    "from cobrame.io.json import load_reduced_json_me_model, load_json_me_model\n",
    "from multiprocessing import Pool\n",
    "import pandas as pd\n",
    "import numpy as np\n",
    "import cobra.test\n",
    "from collections import defaultdict\n",
    "from sympy import Basic, Symbol\n",
    "from datetime import datetime"
   ]
  },
  {
   "cell_type": "code",
   "execution_count": null,
   "metadata": {},
   "outputs": [],
   "source": [
    "# Import the iJL1678b-ME model of E.coli K-12 MG1655\n",
    "with open('./me_models/iJL1678b.pickle', 'rb') as f:\n",
    "    me = pickle.load(f)"
   ]
  },
  {
   "cell_type": "code",
   "execution_count": null,
   "metadata": {},
   "outputs": [],
   "source": [
    "# Solve the ME-model using either SoPlex or qMINOS\n",
    "def solve_me_model(me, max_mu, precision=1e-6, min_mu=0, using_soplex=True,\n",
    "                  compiled_expressions=None):\n",
    "    if using_soplex:\n",
    "        from cobrame.solve.algorithms import binary_search\n",
    "        binary_search(me, min_mu=min_mu, max_mu=max_mu, debug=True, mu_accuracy=precision,\n",
    "                      compiled_expressions=compiled_expressions)\n",
    "    else:\n",
    "        from qminospy.me1 import ME_NLP1\n",
    "        # The object containing solveME methods--composite that uses a ME model object \n",
    "        me_nlp = ME_NLP1(me, growth_key='mu')\n",
    "        # Use bisection for now (until the NLP formulation is worked out)\n",
    "        muopt, hs, xopt, cache = me_nlp.bisectmu(precision=precision, mumax=max_mu)\n",
    "        if me.solution:\n",
    "            me.solution.f = me.solution.x_dict['biomass_dilution']"
   ]
  },
  {
   "cell_type": "code",
   "execution_count": null,
   "metadata": {},
   "outputs": [],
   "source": [
    "# Create a iJO1366 M-model of E.coli to use it's BOF\n",
    "ijo = cobra.test.create_test_model('ecoli')\n",
    "\n",
    "# Extract the growth normalized biomass composition of the cell from the solution and return it as a list.\n",
    "def find_biomass (model, solution):\n",
    "    \n",
    "    if solution:\n",
    "        model.solution = solution\n",
    "    me_demand = defaultdict(float)\n",
    "    x_dict = model.solution.x_dict\n",
    "\n",
    "    # These are reactions that incorporate metabolites into biomass\n",
    "    skip_list = ['SummaryVariable', 'ComplexFormation',\n",
    "                 'TranscriptionReaction', 'TranslationReaction']\n",
    "\n",
    "    growth_rate = model.solution.x_dict['biomass_dilution'] # \"biomass_dilution\" reaction is the pseudo-reaction representing growth rate\n",
    "    mu = Symbol('mu')\n",
    "\n",
    "    biomass_rxn = ijo.reactions.Ec_biomass_iJO1366_WT_53p95M # The BOF used for finding the metabolites of interest\n",
    "    for met_id in biomass_rxn.metabolites:\n",
    "        if met_id.id == \"lipopb_c\":\n",
    "            met = model.metabolites.get_by_id(\"lipoate_c\") # lipoate has different IDs in the iJO1366 and the iJL1678b models\n",
    "        else:\n",
    "            met = model.metabolites.get_by_id(met_id.id)\n",
    "        for r in met.reactions:\n",
    "            if r.__class__.__name__ not in skip_list: # We filter out all the reactions that are not synthesis reactions\n",
    "                stoich = r._metabolites[met]\n",
    "                if isinstance(stoich, Basic):                  \n",
    "                    mu_symbol = None\n",
    "                    for symbol in stoich.free_symbols:\n",
    "                        if symbol.name == 'mu': \n",
    "                            mu_symbol = symbol\n",
    "                            break\n",
    "                    \n",
    "                    if mu_symbol:\n",
    "                        stoich = stoich.subs(mu_symbol, growth_rate) # The \"mu\" symbol gets replaced with growth rate\n",
    "                        \n",
    "                me_demand[met_id.id] += (\n",
    "                        x_dict[r.id] * stoich / growth_rate) # We find the fluxes of the synthesis reactions and growth normalize them\n",
    "    return me_demand"
   ]
  },
  {
   "cell_type": "code",
   "execution_count": null,
   "metadata": {},
   "outputs": [],
   "source": [
    "# Solves the model under certain glucose and ammonium availabilities and returns the growth rate, nutrient constraints \n",
    "# and biomass constituents\n",
    "def solve_and_save(model, glc, nh4):\n",
    "    model.reactions.EX_glc__D_e.lower_bound = glc\n",
    "    model.reactions.EX_nh4_e.lower_bound = nh4\n",
    "    solve_me_model(model, 1., min_mu = .1, precision=1e-4, using_soplex=False)\n",
    "    if model.solution:\n",
    "        biomass = find_biomass(model, solution= model.solution)\n",
    "        return (model.solution.x_dict['biomass_dilution'], glc, nh4, biomass)"
   ]
  },
  {
   "cell_type": "code",
   "execution_count": null,
   "metadata": {},
   "outputs": [],
   "source": [
    "#Merges the biomass defaultdict into the list\n",
    "def sort_result(result):\n",
    "    sorted_list = []\n",
    "    sorted_list.extend([result[0], result[1], result[2]])\n",
    "    for bio_component in result[3].values():\n",
    "        sorted_list.append(bio_component)\n",
    "    return sorted_list"
   ]
  },
  {
   "cell_type": "code",
   "execution_count": null,
   "metadata": {
    "scrolled": true
   },
   "outputs": [],
   "source": [
    "# Function for creating the glucose and ammonium constraint data to be processed\n",
    "def create_tasks(model, glc_min=-10, glc_max=-0, nh4_min=-10, nh4_max=-0, step_size=0.2):\n",
    "    glc_values = list(np.arange(glc_min, glc_max, step_size))\n",
    "    nh4_values = list(np.arange(nh4_min, nh4_max, step_size))\n",
    "    \n",
    "    tasks = [(model, glc, nh4) for glc in glc_values for nh4 in nh4_values]\n",
    "    return tasks"
   ]
  },
  {
   "cell_type": "code",
   "execution_count": null,
   "metadata": {},
   "outputs": [],
   "source": [
    "# Create the constraints specific for our study and batch them up for running 6 simulations at a time\n",
    "tasks = create_tasks(me, glc_min=-10, glc_max=-0, nh4_min=-10, nh4_max=-0, step_size=0.2)\n",
    "new_lists = [tasks[i:i + 6] for i in range(0, len(tasks), 6)]\n",
    "len(new_lists)"
   ]
  },
  {
   "cell_type": "code",
   "execution_count": null,
   "metadata": {},
   "outputs": [],
   "source": [
    "# Split the data into batches for simulations\n",
    "batch1 = new_lists[0:25]\n",
    "batch2 = new_lists[25:50]\n",
    "batch3 = new_lists[50:75]\n",
    "batch4 = new_lists[75:100]\n",
    "batch5 = new_lists[100:125]\n",
    "batch6 = new_lists[125:150]\n",
    "batch7 = new_lists[150:175]\n",
    "batch8 = new_lists[175:200]\n",
    "batch9 = new_lists[200:225]\n",
    "batch10 = new_lists[225:250]\n",
    "batch11 = new_lists[250:275]\n",
    "batch12 = new_lists[275:300]\n",
    "batch13 = new_lists[300:350]\n",
    "batch14 = new_lists[350:375]\n",
    "batch15 = new_lists[375:400]\n",
    "batch16 = new_lists[400:416]"
   ]
  },
  {
   "cell_type": "code",
   "execution_count": null,
   "metadata": {
    "scrolled": true
   },
   "outputs": [],
   "source": [
    "# Uses multiprocessing to parallelize simulations, converts the results into a DataFrame and writes them to a CSV file\n",
    "for i, commit in enumerate(batch1):\n",
    "    if __name__ == \"__main__\":\n",
    "        with Pool() as p:\n",
    "            results = p.starmap(solve_and_save, commit)\n",
    "\n",
    "        sorted_results = []\n",
    "        for result in results:\n",
    "            sorted_results.append(sort_result(result))\n",
    "\n",
    "\n",
    "        df = pd.DataFrame(sorted_results, columns=['growth_rate', 'glc_bound', 'nh4_bound', 'pe161_c', 'murein4p4p_p', \n",
    "    'pg161_c', 'pe161_p', 'murein4px4p_p', 'chor_c', 'pg161_p', 'trp__L_c', 'glu__L_c', '4fe4s_c', 'ni2_c', 'malcoa_c', \n",
    "    'udcpdp_c', 'gtp_c', 'nadp_c', 'h2o_c', 'thmpp_c', '5mthf_c', 'bmocogdp_c', 'adocbl_c', '2dmmql8_c', 'succoa_c', \n",
    "    'nh4_c', 'leu__L_c', 'q8h2_c', 'enter_c', 'cobalt2_c', 'cu2_c', 'pydx5p_c', 'ca2_c', 'asn__L_c', 'pe160_p', 'pg160_p', \n",
    "    'asp__L_c', 'dctp_c', 'pe160_c', 'pg160_c', 'coa_c', 'fe2_c', 'mg2_c', 'glycogen_c', 'spmd_c', 'ala__L_c', \n",
    "    'sheme_c', 'ptrc_c', 'arg__L_c', 'thf_c', 'tyr__L_c', 'thr__L_c', 'ctp_c', 'ser__L_c', 'dttp_c', 'fad_c', 'atp_c', \n",
    "    'gln__L_c', 'pheme_c', 'btn_c', 'gthrd_c', 'fe3_c', 'met__L_c', 'lys__L_c', 'clpn181_p', 'amet_c', 'ribflv_c', 'mobd_c', \n",
    "    '2fe2s_c', 'pg181_c', 'accoa_c', 'pg181_p', 'mocogdp_c', 'murein3px4p_p', 'cys__L_c', '10fthf_c', 'murein3p3p_p', \n",
    "    'dgtp_c', 'clpn161_p', 'mlthf_c', 'colipa_e', 'murein4px4px4p_p', 'pe181_c', 'his__L_c', 'val__L_c', 'utp_c', 'pe181_p', \n",
    "    'k_c', 'hemeO_c', 'ile__L_c', 'so4_c', 'zn2_c', 'cl_c', 'nadph_c', 'nad_c', 'mn2_c', 'pro__L_c', 'lipopb_c', 'nadh_c', \n",
    "    'phe__L_c', 'clpn160_p', 'mococdp_c', 'gly_c', 'mql8_c', 'datp_c', 'ppi_c', 'pi_c', 'h_c', 'adp_c'])\n",
    "\n",
    "\n",
    "        with open('results.csv', 'a') as f:\n",
    "            df.to_csv(f, header=f.tell()==0, index=False)\n",
    "            \n",
    "        print(f\"Progress: {i+1}/{len(batch1)} commits processed. Time: {datetime.now().strftime('%Y-%m-%d %H:%M:%S')}\")"
   ]
  },
  {
   "cell_type": "code",
   "execution_count": null,
   "metadata": {},
   "outputs": [],
   "source": []
  },
  {
   "cell_type": "code",
   "execution_count": null,
   "metadata": {},
   "outputs": [],
   "source": []
  },
  {
   "cell_type": "code",
   "execution_count": null,
   "metadata": {},
   "outputs": [],
   "source": []
  },
  {
   "cell_type": "code",
   "execution_count": null,
   "metadata": {},
   "outputs": [],
   "source": []
  },
  {
   "cell_type": "code",
   "execution_count": null,
   "metadata": {},
   "outputs": [],
   "source": []
  },
  {
   "cell_type": "code",
   "execution_count": null,
   "metadata": {},
   "outputs": [],
   "source": []
  },
  {
   "cell_type": "code",
   "execution_count": null,
   "metadata": {},
   "outputs": [],
   "source": []
  },
  {
   "cell_type": "code",
   "execution_count": null,
   "metadata": {},
   "outputs": [],
   "source": []
  },
  {
   "cell_type": "code",
   "execution_count": null,
   "metadata": {},
   "outputs": [],
   "source": []
  },
  {
   "cell_type": "code",
   "execution_count": null,
   "metadata": {},
   "outputs": [],
   "source": []
  },
  {
   "cell_type": "code",
   "execution_count": null,
   "metadata": {},
   "outputs": [],
   "source": []
  },
  {
   "cell_type": "code",
   "execution_count": null,
   "metadata": {},
   "outputs": [],
   "source": []
  },
  {
   "cell_type": "code",
   "execution_count": null,
   "metadata": {},
   "outputs": [],
   "source": []
  },
  {
   "cell_type": "code",
   "execution_count": null,
   "metadata": {},
   "outputs": [],
   "source": []
  },
  {
   "cell_type": "code",
   "execution_count": null,
   "metadata": {},
   "outputs": [],
   "source": []
  },
  {
   "cell_type": "code",
   "execution_count": null,
   "metadata": {},
   "outputs": [],
   "source": []
  },
  {
   "cell_type": "code",
   "execution_count": null,
   "metadata": {},
   "outputs": [],
   "source": []
  },
  {
   "cell_type": "code",
   "execution_count": null,
   "metadata": {},
   "outputs": [],
   "source": []
  },
  {
   "cell_type": "code",
   "execution_count": null,
   "metadata": {},
   "outputs": [],
   "source": []
  },
  {
   "cell_type": "code",
   "execution_count": null,
   "metadata": {},
   "outputs": [],
   "source": []
  },
  {
   "cell_type": "code",
   "execution_count": null,
   "metadata": {},
   "outputs": [],
   "source": []
  },
  {
   "cell_type": "code",
   "execution_count": null,
   "metadata": {},
   "outputs": [],
   "source": []
  },
  {
   "cell_type": "code",
   "execution_count": null,
   "metadata": {},
   "outputs": [],
   "source": []
  },
  {
   "cell_type": "code",
   "execution_count": null,
   "metadata": {},
   "outputs": [],
   "source": []
  },
  {
   "cell_type": "code",
   "execution_count": null,
   "metadata": {},
   "outputs": [],
   "source": []
  },
  {
   "cell_type": "code",
   "execution_count": null,
   "metadata": {},
   "outputs": [],
   "source": []
  },
  {
   "cell_type": "code",
   "execution_count": null,
   "metadata": {},
   "outputs": [],
   "source": []
  },
  {
   "cell_type": "code",
   "execution_count": null,
   "metadata": {},
   "outputs": [],
   "source": []
  },
  {
   "cell_type": "code",
   "execution_count": null,
   "metadata": {},
   "outputs": [],
   "source": []
  },
  {
   "cell_type": "code",
   "execution_count": null,
   "metadata": {},
   "outputs": [],
   "source": []
  },
  {
   "cell_type": "code",
   "execution_count": null,
   "metadata": {},
   "outputs": [],
   "source": []
  },
  {
   "cell_type": "code",
   "execution_count": null,
   "metadata": {},
   "outputs": [],
   "source": []
  },
  {
   "cell_type": "code",
   "execution_count": null,
   "metadata": {},
   "outputs": [],
   "source": []
  },
  {
   "cell_type": "code",
   "execution_count": null,
   "metadata": {},
   "outputs": [],
   "source": []
  },
  {
   "cell_type": "code",
   "execution_count": null,
   "metadata": {},
   "outputs": [],
   "source": []
  },
  {
   "cell_type": "code",
   "execution_count": null,
   "metadata": {},
   "outputs": [],
   "source": []
  },
  {
   "cell_type": "code",
   "execution_count": null,
   "metadata": {},
   "outputs": [],
   "source": []
  },
  {
   "cell_type": "code",
   "execution_count": null,
   "metadata": {},
   "outputs": [],
   "source": []
  },
  {
   "cell_type": "code",
   "execution_count": null,
   "metadata": {},
   "outputs": [],
   "source": []
  },
  {
   "cell_type": "code",
   "execution_count": null,
   "metadata": {},
   "outputs": [],
   "source": []
  },
  {
   "cell_type": "code",
   "execution_count": null,
   "metadata": {},
   "outputs": [],
   "source": []
  },
  {
   "cell_type": "code",
   "execution_count": null,
   "metadata": {},
   "outputs": [],
   "source": []
  },
  {
   "cell_type": "code",
   "execution_count": null,
   "metadata": {},
   "outputs": [],
   "source": []
  },
  {
   "cell_type": "code",
   "execution_count": null,
   "metadata": {},
   "outputs": [],
   "source": []
  },
  {
   "cell_type": "code",
   "execution_count": null,
   "metadata": {},
   "outputs": [],
   "source": []
  },
  {
   "cell_type": "code",
   "execution_count": null,
   "metadata": {},
   "outputs": [],
   "source": []
  },
  {
   "cell_type": "code",
   "execution_count": null,
   "metadata": {},
   "outputs": [],
   "source": []
  },
  {
   "cell_type": "code",
   "execution_count": null,
   "metadata": {},
   "outputs": [],
   "source": []
  },
  {
   "cell_type": "code",
   "execution_count": null,
   "metadata": {},
   "outputs": [],
   "source": []
  },
  {
   "cell_type": "code",
   "execution_count": null,
   "metadata": {},
   "outputs": [],
   "source": []
  },
  {
   "cell_type": "code",
   "execution_count": null,
   "metadata": {},
   "outputs": [],
   "source": []
  },
  {
   "cell_type": "code",
   "execution_count": null,
   "metadata": {},
   "outputs": [],
   "source": []
  },
  {
   "cell_type": "code",
   "execution_count": null,
   "metadata": {},
   "outputs": [],
   "source": []
  },
  {
   "cell_type": "code",
   "execution_count": null,
   "metadata": {},
   "outputs": [],
   "source": []
  }
 ],
 "metadata": {
  "kernelspec": {
   "display_name": "Python 3",
   "language": "python",
   "name": "python3"
  },
  "language_info": {
   "codemirror_mode": {
    "name": "ipython",
    "version": 3
   },
   "file_extension": ".py",
   "mimetype": "text/x-python",
   "name": "python",
   "nbconvert_exporter": "python",
   "pygments_lexer": "ipython3",
   "version": "3.6.1"
  }
 },
 "nbformat": 4,
 "nbformat_minor": 1
}
